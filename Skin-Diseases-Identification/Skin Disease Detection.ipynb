{
 "cells": [
  {
   "cell_type": "markdown",
   "metadata": {},
   "source": [
    "# SKIN DISEASE IDENTIFICATION USING IMAGE ANALYSIS"
   ]
  },
  {
   "cell_type": "code",
   "execution_count": 1,
   "metadata": {},
   "outputs": [
    {
     "name": "stderr",
     "output_type": "stream",
     "text": [
      "Using TensorFlow backend.\n"
     ]
    }
   ],
   "source": [
    "from keras.models import Sequential\n",
    "from keras.layers import Dense\n",
    "from keras.layers import Convolution2D\n",
    "from keras.layers import MaxPooling2D\n",
    "from keras.layers import Flatten"
   ]
  },
  {
   "cell_type": "code",
   "execution_count": 2,
   "metadata": {},
   "outputs": [],
   "source": [
    "model = Sequential()"
   ]
  },
  {
   "cell_type": "markdown",
   "metadata": {},
   "source": [
    "Adding Convolutional layers"
   ]
  },
  {
   "cell_type": "code",
   "execution_count": 3,
   "metadata": {},
   "outputs": [],
   "source": [
    "model.add(Convolution2D(32,(3,3),input_shape = (64,64,3), activation = 'relu'))"
   ]
  },
  {
   "cell_type": "code",
   "execution_count": 4,
   "metadata": {},
   "outputs": [],
   "source": [
    "model.add(Convolution2D(32,(3,3),input_shape = (64,64,3), activation = 'relu'))"
   ]
  },
  {
   "cell_type": "markdown",
   "metadata": {},
   "source": [
    "Adding Maxpooling layer"
   ]
  },
  {
   "cell_type": "code",
   "execution_count": 5,
   "metadata": {},
   "outputs": [],
   "source": [
    "model.add(MaxPooling2D(pool_size = (2,2)))"
   ]
  },
  {
   "cell_type": "markdown",
   "metadata": {},
   "source": [
    "Add flattening layer"
   ]
  },
  {
   "cell_type": "code",
   "execution_count": 6,
   "metadata": {},
   "outputs": [],
   "source": [
    "model.add(Flatten())"
   ]
  },
  {
   "cell_type": "code",
   "execution_count": 7,
   "metadata": {},
   "outputs": [
    {
     "name": "stdout",
     "output_type": "stream",
     "text": [
      "Model: \"sequential_1\"\n",
      "_________________________________________________________________\n",
      "Layer (type)                 Output Shape              Param #   \n",
      "=================================================================\n",
      "conv2d_1 (Conv2D)            (None, 62, 62, 32)        896       \n",
      "_________________________________________________________________\n",
      "conv2d_2 (Conv2D)            (None, 60, 60, 32)        9248      \n",
      "_________________________________________________________________\n",
      "max_pooling2d_1 (MaxPooling2 (None, 30, 30, 32)        0         \n",
      "_________________________________________________________________\n",
      "flatten_1 (Flatten)          (None, 28800)             0         \n",
      "=================================================================\n",
      "Total params: 10,144\n",
      "Trainable params: 10,144\n",
      "Non-trainable params: 0\n",
      "_________________________________________________________________\n"
     ]
    }
   ],
   "source": [
    "model.summary()"
   ]
  },
  {
   "cell_type": "markdown",
   "metadata": {},
   "source": [
    "Adding hidden layers"
   ]
  },
  {
   "cell_type": "code",
   "execution_count": 8,
   "metadata": {},
   "outputs": [
    {
     "name": "stderr",
     "output_type": "stream",
     "text": [
      "c:\\python\\python37\\lib\\site-packages\\ipykernel_launcher.py:1: UserWarning: Update your `Dense` call to the Keras 2 API: `Dense(activation=\"relu\", units=128, kernel_initializer=\"uniform\")`\n",
      "  \"\"\"Entry point for launching an IPython kernel.\n"
     ]
    }
   ],
   "source": [
    "model.add(Dense(output_dim = 128, init = 'uniform', activation = 'relu'))"
   ]
  },
  {
   "cell_type": "code",
   "execution_count": 9,
   "metadata": {},
   "outputs": [
    {
     "name": "stderr",
     "output_type": "stream",
     "text": [
      "c:\\python\\python37\\lib\\site-packages\\ipykernel_launcher.py:1: UserWarning: Update your `Dense` call to the Keras 2 API: `Dense(activation=\"relu\", units=128, kernel_initializer=\"uniform\")`\n",
      "  \"\"\"Entry point for launching an IPython kernel.\n"
     ]
    }
   ],
   "source": [
    "model.add(Dense(output_dim = 128, init = 'uniform', activation = 'relu'))"
   ]
  },
  {
   "cell_type": "code",
   "execution_count": 10,
   "metadata": {},
   "outputs": [
    {
     "name": "stderr",
     "output_type": "stream",
     "text": [
      "c:\\python\\python37\\lib\\site-packages\\ipykernel_launcher.py:1: UserWarning: Update your `Dense` call to the Keras 2 API: `Dense(activation=\"relu\", units=64, kernel_initializer=\"uniform\")`\n",
      "  \"\"\"Entry point for launching an IPython kernel.\n"
     ]
    }
   ],
   "source": [
    "model.add(Dense(output_dim = 64, init = 'uniform', activation = 'relu'))"
   ]
  },
  {
   "cell_type": "code",
   "execution_count": 11,
   "metadata": {},
   "outputs": [
    {
     "name": "stderr",
     "output_type": "stream",
     "text": [
      "c:\\python\\python37\\lib\\site-packages\\ipykernel_launcher.py:1: UserWarning: Update your `Dense` call to the Keras 2 API: `Dense(activation=\"relu\", units=64, kernel_initializer=\"uniform\")`\n",
      "  \"\"\"Entry point for launching an IPython kernel.\n"
     ]
    }
   ],
   "source": [
    "model.add(Dense(output_dim = 64, init = 'uniform', activation = 'relu'))"
   ]
  },
  {
   "cell_type": "markdown",
   "metadata": {},
   "source": [
    "Adding Output layer"
   ]
  },
  {
   "cell_type": "code",
   "execution_count": 12,
   "metadata": {},
   "outputs": [
    {
     "name": "stderr",
     "output_type": "stream",
     "text": [
      "c:\\python\\python37\\lib\\site-packages\\ipykernel_launcher.py:1: UserWarning: Update your `Dense` call to the Keras 2 API: `Dense(activation=\"softmax\", units=6, kernel_initializer=\"uniform\")`\n",
      "  \"\"\"Entry point for launching an IPython kernel.\n"
     ]
    }
   ],
   "source": [
    "model.add(Dense(output_dim = 6, init = 'uniform', activation = 'softmax')) "
   ]
  },
  {
   "cell_type": "markdown",
   "metadata": {},
   "source": [
    "Preprocessing the data"
   ]
  },
  {
   "cell_type": "code",
   "execution_count": 13,
   "metadata": {},
   "outputs": [],
   "source": [
    "from keras.preprocessing.image import ImageDataGenerator"
   ]
  },
  {
   "cell_type": "code",
   "execution_count": 14,
   "metadata": {},
   "outputs": [],
   "source": [
    "train_datagen = ImageDataGenerator(rescale = 1./255, shear_range = 0.2, zoom_range = 0.2, height_shift_range = 0.2, width_shift_range = 0.2, horizontal_flip = True, vertical_flip = True)\n",
    "test_datagen = ImageDataGenerator(rescale = 1)"
   ]
  },
  {
   "cell_type": "markdown",
   "metadata": {},
   "source": [
    "Loading the train and test data"
   ]
  },
  {
   "cell_type": "code",
   "execution_count": 15,
   "metadata": {},
   "outputs": [
    {
     "name": "stdout",
     "output_type": "stream",
     "text": [
      "Found 2301 images belonging to 6 classes.\n",
      "Found 647 images belonging to 6 classes.\n"
     ]
    }
   ],
   "source": [
    "x_train = train_datagen.flow_from_directory(r'C:\\Users\\ABHINAV ANAND\\Desktop\\Skin-Diseases-Identification-master\\Skin Diseases\\Skin Diseases\\train', target_size = (64, 64), batch_size = 32, class_mode = 'categorical')\n",
    "x_test = test_datagen.flow_from_directory(r'C:\\Users\\ABHINAV ANAND\\Desktop\\Skin-Diseases-Identification-master\\Skin Diseases\\Skin Diseases\\test', target_size = (64, 64), batch_size = 32, class_mode = 'categorical')"
   ]
  },
  {
   "cell_type": "code",
   "execution_count": 16,
   "metadata": {},
   "outputs": [
    {
     "data": {
      "text/plain": [
       "{'Acne': 0,\n",
       " 'Eczema': 1,\n",
       " 'Melanoma': 2,\n",
       " 'Psoriasis': 3,\n",
       " 'Rosacea': 4,\n",
       " 'Vitiligo': 5}"
      ]
     },
     "execution_count": 16,
     "metadata": {},
     "output_type": "execute_result"
    }
   ],
   "source": [
    "x_train.class_indices"
   ]
  },
  {
   "cell_type": "code",
   "execution_count": 17,
   "metadata": {},
   "outputs": [],
   "source": [
    "model.compile(loss = 'categorical_crossentropy', optimizer = 'adam', metrics = ['accuracy'])"
   ]
  },
  {
   "cell_type": "markdown",
   "metadata": {},
   "source": [
    "Fitting the data"
   ]
  },
  {
   "cell_type": "code",
   "execution_count": 18,
   "metadata": {},
   "outputs": [
    {
     "name": "stdout",
     "output_type": "stream",
     "text": [
      "Epoch 1/150\n",
      "100/100 [==============================] - 83s 832ms/step - loss: 1.7240 - accuracy: 0.2280 - val_loss: 40.2254 - val_accuracy: 0.2087\n",
      "Epoch 2/150\n",
      "100/100 [==============================] - 31s 314ms/step - loss: 1.7101 - accuracy: 0.2261 - val_loss: 77.9296 - val_accuracy: 0.2087\n",
      "Epoch 3/150\n",
      "100/100 [==============================] - 32s 321ms/step - loss: 1.7110 - accuracy: 0.2235 - val_loss: 66.1922 - val_accuracy: 0.2519\n",
      "Epoch 4/150\n",
      "100/100 [==============================] - 31s 314ms/step - loss: 1.7150 - accuracy: 0.2298 - val_loss: 40.7932 - val_accuracy: 0.1777\n",
      "Epoch 5/150\n",
      "100/100 [==============================] - 31s 312ms/step - loss: 1.6937 - accuracy: 0.2502 - val_loss: 45.8638 - val_accuracy: 0.2442\n",
      "Epoch 6/150\n",
      "100/100 [==============================] - 33s 329ms/step - loss: 1.6303 - accuracy: 0.2977 - val_loss: 80.1402 - val_accuracy: 0.2597\n",
      "Epoch 7/150\n",
      "100/100 [==============================] - 33s 331ms/step - loss: 1.6025 - accuracy: 0.3134 - val_loss: 37.9996 - val_accuracy: 0.2859\n",
      "Epoch 8/150\n",
      "100/100 [==============================] - 32s 323ms/step - loss: 1.6037 - accuracy: 0.3231 - val_loss: 140.1895 - val_accuracy: 0.3107\n",
      "Epoch 9/150\n",
      "100/100 [==============================] - 31s 315ms/step - loss: 1.5746 - accuracy: 0.3406 - val_loss: 93.6362 - val_accuracy: 0.3199\n",
      "Epoch 10/150\n",
      "100/100 [==============================] - 31s 314ms/step - loss: 1.5476 - accuracy: 0.3591 - val_loss: 60.0864 - val_accuracy: 0.3416\n",
      "Epoch 11/150\n",
      "100/100 [==============================] - 32s 320ms/step - loss: 1.5279 - accuracy: 0.3613 - val_loss: 102.0417 - val_accuracy: 0.3354\n",
      "Epoch 12/150\n",
      "100/100 [==============================] - 32s 321ms/step - loss: 1.5234 - accuracy: 0.3650 - val_loss: 41.5283 - val_accuracy: 0.3076\n",
      "Epoch 13/150\n",
      "100/100 [==============================] - 32s 317ms/step - loss: 1.4901 - accuracy: 0.3726 - val_loss: 61.2914 - val_accuracy: 0.3849\n",
      "Epoch 14/150\n",
      "100/100 [==============================] - 31s 313ms/step - loss: 1.4713 - accuracy: 0.3929 - val_loss: 122.9347 - val_accuracy: 0.3926\n",
      "Epoch 15/150\n",
      "100/100 [==============================] - 32s 320ms/step - loss: 1.4644 - accuracy: 0.3844 - val_loss: 54.7311 - val_accuracy: 0.3230\n",
      "Epoch 16/150\n",
      "100/100 [==============================] - 32s 319ms/step - loss: 1.4491 - accuracy: 0.4004 - val_loss: 140.5144 - val_accuracy: 0.2828\n",
      "Epoch 17/150\n",
      "100/100 [==============================] - 31s 312ms/step - loss: 1.4442 - accuracy: 0.4117 - val_loss: 85.7510 - val_accuracy: 0.3524\n",
      "Epoch 18/150\n",
      "100/100 [==============================] - 33s 327ms/step - loss: 1.4306 - accuracy: 0.4260 - val_loss: 249.5931 - val_accuracy: 0.2968\n",
      "Epoch 19/150\n",
      "100/100 [==============================] - 31s 310ms/step - loss: 1.4077 - accuracy: 0.4374 - val_loss: 288.6864 - val_accuracy: 0.2844\n",
      "Epoch 20/150\n",
      "100/100 [==============================] - 32s 316ms/step - loss: 1.3828 - accuracy: 0.4541 - val_loss: 182.5438 - val_accuracy: 0.3385\n",
      "Epoch 21/150\n",
      "100/100 [==============================] - 32s 320ms/step - loss: 1.3645 - accuracy: 0.4596 - val_loss: 125.1853 - val_accuracy: 0.3493\n",
      "Epoch 22/150\n",
      "100/100 [==============================] - 31s 315ms/step - loss: 1.3503 - accuracy: 0.4673 - val_loss: 400.1483 - val_accuracy: 0.2813\n",
      "Epoch 23/150\n",
      "100/100 [==============================] - 32s 316ms/step - loss: 1.3363 - accuracy: 0.4750 - val_loss: 275.5229 - val_accuracy: 0.3261\n",
      "Epoch 24/150\n",
      "100/100 [==============================] - 32s 322ms/step - loss: 1.3463 - accuracy: 0.4671 - val_loss: 390.4379 - val_accuracy: 0.3802\n",
      "Epoch 25/150\n",
      "100/100 [==============================] - 31s 313ms/step - loss: 1.3248 - accuracy: 0.4748 - val_loss: 366.5614 - val_accuracy: 0.3168\n",
      "Epoch 26/150\n",
      "100/100 [==============================] - 32s 319ms/step - loss: 1.3191 - accuracy: 0.4820 - val_loss: 289.5139 - val_accuracy: 0.3524\n",
      "Epoch 27/150\n",
      "100/100 [==============================] - 31s 312ms/step - loss: 1.2944 - accuracy: 0.4952 - val_loss: 127.6153 - val_accuracy: 0.2968\n",
      "Epoch 28/150\n",
      "100/100 [==============================] - 32s 317ms/step - loss: 1.3190 - accuracy: 0.4843 - val_loss: 226.7485 - val_accuracy: 0.3400\n",
      "Epoch 29/150\n",
      "100/100 [==============================] - 32s 322ms/step - loss: 1.2703 - accuracy: 0.5042 - val_loss: 189.6151 - val_accuracy: 0.3493\n",
      "Epoch 30/150\n",
      "100/100 [==============================] - 31s 313ms/step - loss: 1.2870 - accuracy: 0.4984 - val_loss: 477.3977 - val_accuracy: 0.3168\n",
      "Epoch 31/150\n",
      "100/100 [==============================] - 32s 318ms/step - loss: 1.2904 - accuracy: 0.5055 - val_loss: 679.5757 - val_accuracy: 0.3369\n",
      "Epoch 32/150\n",
      "100/100 [==============================] - 31s 312ms/step - loss: 1.2708 - accuracy: 0.5023 - val_loss: 120.1127 - val_accuracy: 0.3570\n",
      "Epoch 33/150\n",
      "100/100 [==============================] - 31s 315ms/step - loss: 1.2459 - accuracy: 0.5222 - val_loss: 209.9326 - val_accuracy: 0.3570\n",
      "Epoch 34/150\n",
      "100/100 [==============================] - 32s 318ms/step - loss: 1.2506 - accuracy: 0.5124 - val_loss: 287.5577 - val_accuracy: 0.2968\n",
      "Epoch 35/150\n",
      "100/100 [==============================] - 32s 316ms/step - loss: 1.2448 - accuracy: 0.5103 - val_loss: 377.0547 - val_accuracy: 0.3091\n",
      "Epoch 36/150\n",
      "100/100 [==============================] - 32s 317ms/step - loss: 1.2357 - accuracy: 0.5202 - val_loss: 614.8991 - val_accuracy: 0.2906\n",
      "Epoch 37/150\n",
      "100/100 [==============================] - 31s 311ms/step - loss: 1.2540 - accuracy: 0.5144 - val_loss: 359.0319 - val_accuracy: 0.3663\n",
      "Epoch 38/150\n",
      "100/100 [==============================] - 30s 303ms/step - loss: 1.2300 - accuracy: 0.5222 - val_loss: 258.0269 - val_accuracy: 0.3447\n",
      "Epoch 39/150\n",
      "100/100 [==============================] - 31s 307ms/step - loss: 1.2324 - accuracy: 0.5269 - val_loss: 354.8271 - val_accuracy: 0.3354\n",
      "Epoch 40/150\n",
      "100/100 [==============================] - 30s 303ms/step - loss: 1.2329 - accuracy: 0.5227 - val_loss: 154.2798 - val_accuracy: 0.3570\n",
      "Epoch 41/150\n",
      "100/100 [==============================] - 31s 306ms/step - loss: 1.1969 - accuracy: 0.5382 - val_loss: 210.7206 - val_accuracy: 0.2998\n",
      "Epoch 42/150\n",
      "100/100 [==============================] - 31s 311ms/step - loss: 1.1940 - accuracy: 0.5380 - val_loss: 60.2776 - val_accuracy: 0.3277\n",
      "Epoch 43/150\n",
      "100/100 [==============================] - 30s 302ms/step - loss: 1.1970 - accuracy: 0.5401 - val_loss: 96.0320 - val_accuracy: 0.3369\n",
      "Epoch 44/150\n",
      "100/100 [==============================] - 31s 308ms/step - loss: 1.1941 - accuracy: 0.5455 - val_loss: 135.8380 - val_accuracy: 0.3277\n",
      "Epoch 45/150\n",
      "100/100 [==============================] - 30s 300ms/step - loss: 1.1973 - accuracy: 0.5314 - val_loss: 542.7116 - val_accuracy: 0.3354\n",
      "Epoch 46/150\n",
      "100/100 [==============================] - 31s 310ms/step - loss: 1.1789 - accuracy: 0.5445 - val_loss: 133.6941 - val_accuracy: 0.3601\n",
      "Epoch 47/150\n",
      "100/100 [==============================] - 31s 311ms/step - loss: 1.1662 - accuracy: 0.5518 - val_loss: 449.2846 - val_accuracy: 0.3076\n",
      "Epoch 48/150\n",
      "100/100 [==============================] - 30s 301ms/step - loss: 1.1764 - accuracy: 0.5439 - val_loss: 282.3172 - val_accuracy: 0.3462\n",
      "Epoch 49/150\n",
      "100/100 [==============================] - 31s 306ms/step - loss: 1.1769 - accuracy: 0.5482 - val_loss: 233.9516 - val_accuracy: 0.3122\n",
      "Epoch 50/150\n",
      "100/100 [==============================] - 30s 303ms/step - loss: 1.1465 - accuracy: 0.5568 - val_loss: 448.1505 - val_accuracy: 0.2705\n",
      "Epoch 51/150\n",
      "100/100 [==============================] - 31s 306ms/step - loss: 1.1739 - accuracy: 0.5457 - val_loss: 325.9906 - val_accuracy: 0.3014\n",
      "Epoch 52/150\n",
      "100/100 [==============================] - 31s 308ms/step - loss: 1.1568 - accuracy: 0.5586 - val_loss: 427.2040 - val_accuracy: 0.3076\n",
      "Epoch 53/150\n",
      "100/100 [==============================] - 30s 302ms/step - loss: 1.1686 - accuracy: 0.5464 - val_loss: 308.5609 - val_accuracy: 0.3895\n",
      "Epoch 54/150\n",
      "100/100 [==============================] - 31s 306ms/step - loss: 1.1268 - accuracy: 0.5673 - val_loss: 309.9683 - val_accuracy: 0.3524\n",
      "Epoch 55/150\n",
      "100/100 [==============================] - 30s 300ms/step - loss: 1.1329 - accuracy: 0.5661 - val_loss: 198.8108 - val_accuracy: 0.3091\n",
      "Epoch 56/150\n"
     ]
    },
    {
     "name": "stdout",
     "output_type": "stream",
     "text": [
      "100/100 [==============================] - 30s 300ms/step - loss: 1.1201 - accuracy: 0.5677 - val_loss: 206.6028 - val_accuracy: 0.3539\n",
      "Epoch 57/150\n",
      "100/100 [==============================] - 31s 307ms/step - loss: 1.1055 - accuracy: 0.5699 - val_loss: 259.6236 - val_accuracy: 0.3045\n",
      "Epoch 58/150\n",
      "100/100 [==============================] - 30s 299ms/step - loss: 1.1082 - accuracy: 0.5670 - val_loss: 629.4511 - val_accuracy: 0.3694\n",
      "Epoch 59/150\n",
      "100/100 [==============================] - 30s 299ms/step - loss: 1.1007 - accuracy: 0.5768 - val_loss: 299.9924 - val_accuracy: 0.3709\n",
      "Epoch 60/150\n",
      "100/100 [==============================] - 31s 309ms/step - loss: 1.0971 - accuracy: 0.5799 - val_loss: 306.6592 - val_accuracy: 0.3957\n",
      "Epoch 61/150\n",
      "100/100 [==============================] - 30s 301ms/step - loss: 1.1066 - accuracy: 0.5827 - val_loss: 378.8336 - val_accuracy: 0.3354\n",
      "Epoch 62/150\n",
      "100/100 [==============================] - 33s 334ms/step - loss: 1.0917 - accuracy: 0.5790 - val_loss: 311.3168 - val_accuracy: 0.3539\n",
      "Epoch 63/150\n",
      "100/100 [==============================] - 31s 312ms/step - loss: 1.0660 - accuracy: 0.5924 - val_loss: 653.6060 - val_accuracy: 0.3864\n",
      "Epoch 64/150\n",
      "100/100 [==============================] - 32s 319ms/step - loss: 1.0932 - accuracy: 0.5887 - val_loss: 199.5292 - val_accuracy: 0.3478\n",
      "Epoch 65/150\n",
      "100/100 [==============================] - 32s 322ms/step - loss: 1.0598 - accuracy: 0.5971 - val_loss: 288.6172 - val_accuracy: 0.3632\n",
      "Epoch 66/150\n",
      "100/100 [==============================] - 32s 316ms/step - loss: 1.0687 - accuracy: 0.5921 - val_loss: 86.0330 - val_accuracy: 0.3338\n",
      "Epoch 67/150\n",
      "100/100 [==============================] - 32s 322ms/step - loss: 1.0755 - accuracy: 0.5839 - val_loss: 712.9639 - val_accuracy: 0.3586\n",
      "Epoch 68/150\n",
      "100/100 [==============================] - 31s 311ms/step - loss: 1.0381 - accuracy: 0.6028 - val_loss: 511.6833 - val_accuracy: 0.3663\n",
      "Epoch 69/150\n",
      "100/100 [==============================] - 32s 318ms/step - loss: 1.0682 - accuracy: 0.5911 - val_loss: 262.4968 - val_accuracy: 0.3740\n",
      "Epoch 70/150\n",
      "100/100 [==============================] - 32s 324ms/step - loss: 1.0602 - accuracy: 0.5915 - val_loss: 152.3081 - val_accuracy: 0.3957\n",
      "Epoch 71/150\n",
      "100/100 [==============================] - 31s 314ms/step - loss: 1.0339 - accuracy: 0.6049 - val_loss: 241.8012 - val_accuracy: 0.3849\n",
      "Epoch 72/150\n",
      "100/100 [==============================] - 32s 317ms/step - loss: 1.0164 - accuracy: 0.6071 - val_loss: 154.5882 - val_accuracy: 0.3694\n",
      "Epoch 73/150\n",
      "100/100 [==============================] - 32s 319ms/step - loss: 1.0299 - accuracy: 0.5987 - val_loss: 181.3745 - val_accuracy: 0.3539\n",
      "Epoch 74/150\n",
      "100/100 [==============================] - 32s 318ms/step - loss: 1.0380 - accuracy: 0.5980 - val_loss: 475.9183 - val_accuracy: 0.4019\n",
      "Epoch 75/150\n",
      "100/100 [==============================] - 32s 319ms/step - loss: 1.0035 - accuracy: 0.6193 - val_loss: 325.2558 - val_accuracy: 0.3478\n",
      "Epoch 76/150\n",
      "100/100 [==============================] - 31s 313ms/step - loss: 1.0138 - accuracy: 0.6096 - val_loss: 202.6983 - val_accuracy: 0.4080\n",
      "Epoch 77/150\n",
      "100/100 [==============================] - 32s 320ms/step - loss: 1.0029 - accuracy: 0.6115 - val_loss: 165.5581 - val_accuracy: 0.4142\n",
      "Epoch 78/150\n",
      "100/100 [==============================] - 32s 322ms/step - loss: 1.0332 - accuracy: 0.6021 - val_loss: 83.1292 - val_accuracy: 0.3818\n",
      "Epoch 79/150\n",
      "100/100 [==============================] - 32s 316ms/step - loss: 0.9780 - accuracy: 0.6193 - val_loss: 188.9640 - val_accuracy: 0.3771\n",
      "Epoch 80/150\n",
      "100/100 [==============================] - 32s 319ms/step - loss: 1.0473 - accuracy: 0.5999 - val_loss: 471.0887 - val_accuracy: 0.3663\n",
      "Epoch 81/150\n",
      "100/100 [==============================] - 31s 314ms/step - loss: 0.9953 - accuracy: 0.6052 - val_loss: 44.1152 - val_accuracy: 0.3957\n",
      "Epoch 82/150\n",
      "100/100 [==============================] - 31s 313ms/step - loss: 0.9610 - accuracy: 0.6275 - val_loss: 496.9955 - val_accuracy: 0.3988\n",
      "Epoch 83/150\n",
      "100/100 [==============================] - 32s 320ms/step - loss: 0.9952 - accuracy: 0.6093 - val_loss: 403.7810 - val_accuracy: 0.3756\n",
      "Epoch 84/150\n",
      "100/100 [==============================] - 31s 313ms/step - loss: 0.9795 - accuracy: 0.6237 - val_loss: 214.9612 - val_accuracy: 0.4019\n",
      "Epoch 85/150\n",
      "100/100 [==============================] - 32s 320ms/step - loss: 0.9593 - accuracy: 0.6343 - val_loss: 394.6184 - val_accuracy: 0.3833\n",
      "Epoch 86/150\n",
      "100/100 [==============================] - 31s 314ms/step - loss: 0.9647 - accuracy: 0.6284 - val_loss: 242.5739 - val_accuracy: 0.3926\n",
      "Epoch 87/150\n",
      "100/100 [==============================] - 32s 317ms/step - loss: 0.9718 - accuracy: 0.6277 - val_loss: 617.8445 - val_accuracy: 0.3740\n",
      "Epoch 88/150\n",
      "100/100 [==============================] - 32s 321ms/step - loss: 0.9636 - accuracy: 0.6312 - val_loss: 372.2608 - val_accuracy: 0.3910\n",
      "Epoch 89/150\n",
      "100/100 [==============================] - 32s 317ms/step - loss: 0.9339 - accuracy: 0.6403 - val_loss: 377.2580 - val_accuracy: 0.4019\n",
      "Epoch 90/150\n",
      "100/100 [==============================] - 32s 317ms/step - loss: 0.9187 - accuracy: 0.6522 - val_loss: 116.1667 - val_accuracy: 0.3833\n",
      "Epoch 91/150\n",
      "100/100 [==============================] - 31s 312ms/step - loss: 0.9453 - accuracy: 0.6356 - val_loss: 520.0413 - val_accuracy: 0.3926\n",
      "Epoch 92/150\n",
      "100/100 [==============================] - 32s 322ms/step - loss: 0.9287 - accuracy: 0.6459 - val_loss: 666.3102 - val_accuracy: 0.4003\n",
      "Epoch 93/150\n",
      "100/100 [==============================] - 32s 322ms/step - loss: 0.9398 - accuracy: 0.6384 - val_loss: 276.0492 - val_accuracy: 0.4003\n",
      "Epoch 94/150\n",
      "100/100 [==============================] - 31s 314ms/step - loss: 0.9094 - accuracy: 0.6506 - val_loss: 218.8733 - val_accuracy: 0.3910\n",
      "Epoch 95/150\n",
      "100/100 [==============================] - 32s 317ms/step - loss: 0.9155 - accuracy: 0.6462 - val_loss: 454.2116 - val_accuracy: 0.3849\n",
      "Epoch 96/150\n",
      "100/100 [==============================] - 33s 328ms/step - loss: 0.9120 - accuracy: 0.6572 - val_loss: 212.1626 - val_accuracy: 0.4003\n",
      "Epoch 97/150\n",
      "100/100 [==============================] - 31s 313ms/step - loss: 0.9006 - accuracy: 0.6544 - val_loss: 151.6483 - val_accuracy: 0.4281\n",
      "Epoch 98/150\n",
      "100/100 [==============================] - 32s 324ms/step - loss: 0.9045 - accuracy: 0.6559 - val_loss: 268.2922 - val_accuracy: 0.3895\n",
      "Epoch 99/150\n",
      "100/100 [==============================] - 31s 313ms/step - loss: 0.8978 - accuracy: 0.6550 - val_loss: 115.0261 - val_accuracy: 0.4204\n",
      "Epoch 100/150\n",
      "100/100 [==============================] - 32s 318ms/step - loss: 0.9020 - accuracy: 0.6512 - val_loss: 166.7511 - val_accuracy: 0.3910\n",
      "Epoch 101/150\n",
      "100/100 [==============================] - 32s 320ms/step - loss: 0.8656 - accuracy: 0.6766 - val_loss: 317.3794 - val_accuracy: 0.3910\n",
      "Epoch 102/150\n",
      "100/100 [==============================] - 32s 317ms/step - loss: 0.8892 - accuracy: 0.6488 - val_loss: 248.5452 - val_accuracy: 0.3988\n",
      "Epoch 103/150\n",
      "100/100 [==============================] - 32s 322ms/step - loss: 0.8762 - accuracy: 0.6594 - val_loss: 294.5005 - val_accuracy: 0.4297\n",
      "Epoch 104/150\n",
      "100/100 [==============================] - 33s 326ms/step - loss: 0.8941 - accuracy: 0.6444 - val_loss: 637.0365 - val_accuracy: 0.3864\n",
      "Epoch 105/150\n",
      "100/100 [==============================] - 33s 326ms/step - loss: 0.8500 - accuracy: 0.6713 - val_loss: 542.5093 - val_accuracy: 0.3740\n",
      "Epoch 106/150\n",
      "100/100 [==============================] - 33s 330ms/step - loss: 0.8695 - accuracy: 0.6622 - val_loss: 188.5398 - val_accuracy: 0.4281\n",
      "Epoch 107/150\n",
      "100/100 [==============================] - 31s 314ms/step - loss: 0.8800 - accuracy: 0.6647 - val_loss: 871.9515 - val_accuracy: 0.3879\n",
      "Epoch 108/150\n",
      "100/100 [==============================] - 32s 321ms/step - loss: 0.8674 - accuracy: 0.6753 - val_loss: 562.7719 - val_accuracy: 0.3879\n",
      "Epoch 109/150\n",
      "100/100 [==============================] - 34s 337ms/step - loss: 0.8747 - accuracy: 0.6728 - val_loss: 317.2570 - val_accuracy: 0.3756\n",
      "Epoch 110/150\n",
      "100/100 [==============================] - 32s 323ms/step - loss: 0.8459 - accuracy: 0.6669 - val_loss: 265.3047 - val_accuracy: 0.3972\n",
      "Epoch 111/150\n"
     ]
    },
    {
     "name": "stdout",
     "output_type": "stream",
     "text": [
      "100/100 [==============================] - 32s 322ms/step - loss: 0.8458 - accuracy: 0.6722 - val_loss: 284.2101 - val_accuracy: 0.4111\n",
      "Epoch 112/150\n",
      "100/100 [==============================] - 31s 310ms/step - loss: 0.8350 - accuracy: 0.6822 - val_loss: 250.7223 - val_accuracy: 0.4034\n",
      "Epoch 113/150\n",
      "100/100 [==============================] - 31s 315ms/step - loss: 0.8837 - accuracy: 0.6578 - val_loss: 183.1134 - val_accuracy: 0.4173\n",
      "Epoch 114/150\n",
      "100/100 [==============================] - 32s 322ms/step - loss: 0.8394 - accuracy: 0.6681 - val_loss: 106.3360 - val_accuracy: 0.3972\n",
      "Epoch 115/150\n",
      "100/100 [==============================] - 31s 312ms/step - loss: 0.8425 - accuracy: 0.6744 - val_loss: 232.6770 - val_accuracy: 0.3756\n",
      "Epoch 116/150\n",
      "100/100 [==============================] - 32s 317ms/step - loss: 0.8158 - accuracy: 0.6875 - val_loss: 497.6300 - val_accuracy: 0.4189\n",
      "Epoch 117/150\n",
      "100/100 [==============================] - 32s 316ms/step - loss: 0.8162 - accuracy: 0.6763 - val_loss: 384.2538 - val_accuracy: 0.3818\n",
      "Epoch 118/150\n",
      "100/100 [==============================] - 31s 313ms/step - loss: 0.8191 - accuracy: 0.6900 - val_loss: 496.7199 - val_accuracy: 0.3663\n",
      "Epoch 119/150\n",
      "100/100 [==============================] - 32s 322ms/step - loss: 0.7789 - accuracy: 0.7003 - val_loss: 818.2548 - val_accuracy: 0.3972\n",
      "Epoch 120/150\n",
      "100/100 [==============================] - 31s 313ms/step - loss: 0.8051 - accuracy: 0.6807 - val_loss: 571.8796 - val_accuracy: 0.3879\n",
      "Epoch 121/150\n",
      "100/100 [==============================] - 32s 322ms/step - loss: 0.8114 - accuracy: 0.6831 - val_loss: 535.8702 - val_accuracy: 0.4250\n",
      "Epoch 122/150\n",
      "100/100 [==============================] - 31s 314ms/step - loss: 0.8092 - accuracy: 0.6919 - val_loss: 576.2087 - val_accuracy: 0.3663\n",
      "Epoch 123/150\n",
      "100/100 [==============================] - 32s 316ms/step - loss: 0.8025 - accuracy: 0.6875 - val_loss: 563.2522 - val_accuracy: 0.3957\n",
      "Epoch 124/150\n",
      "100/100 [==============================] - 32s 322ms/step - loss: 0.8151 - accuracy: 0.6891 - val_loss: 530.3389 - val_accuracy: 0.3849\n",
      "Epoch 125/150\n",
      "100/100 [==============================] - 31s 310ms/step - loss: 0.8333 - accuracy: 0.6803 - val_loss: 819.0032 - val_accuracy: 0.3756\n",
      "Epoch 126/150\n",
      "100/100 [==============================] - 32s 323ms/step - loss: 0.7638 - accuracy: 0.7057 - val_loss: 488.3615 - val_accuracy: 0.3709\n",
      "Epoch 127/150\n",
      "100/100 [==============================] - 32s 315ms/step - loss: 0.7983 - accuracy: 0.6928 - val_loss: 457.7173 - val_accuracy: 0.3972\n",
      "Epoch 128/150\n",
      "100/100 [==============================] - 31s 314ms/step - loss: 0.7752 - accuracy: 0.7048 - val_loss: 175.6784 - val_accuracy: 0.3787\n",
      "Epoch 129/150\n",
      "100/100 [==============================] - 32s 321ms/step - loss: 0.7766 - accuracy: 0.7122 - val_loss: 211.4538 - val_accuracy: 0.3802\n",
      "Epoch 130/150\n",
      "100/100 [==============================] - 32s 316ms/step - loss: 0.7809 - accuracy: 0.7041 - val_loss: 610.9653 - val_accuracy: 0.3802\n",
      "Epoch 131/150\n",
      "100/100 [==============================] - 31s 315ms/step - loss: 0.8084 - accuracy: 0.6960 - val_loss: 633.5331 - val_accuracy: 0.3988\n",
      "Epoch 132/150\n",
      "100/100 [==============================] - 33s 325ms/step - loss: 0.7532 - accuracy: 0.7098 - val_loss: 1161.3439 - val_accuracy: 0.3555\n",
      "Epoch 133/150\n",
      "100/100 [==============================] - 32s 316ms/step - loss: 0.7814 - accuracy: 0.6938 - val_loss: 688.9724 - val_accuracy: 0.3833\n",
      "Epoch 134/150\n",
      "100/100 [==============================] - 32s 323ms/step - loss: 0.7559 - accuracy: 0.7044 - val_loss: 140.7510 - val_accuracy: 0.4049\n",
      "Epoch 135/150\n",
      "100/100 [==============================] - 31s 313ms/step - loss: 0.7499 - accuracy: 0.7113 - val_loss: 560.3170 - val_accuracy: 0.3879\n",
      "Epoch 136/150\n",
      "100/100 [==============================] - 32s 319ms/step - loss: 0.7889 - accuracy: 0.6966 - val_loss: 267.4234 - val_accuracy: 0.3648\n",
      "Epoch 137/150\n",
      "100/100 [==============================] - 32s 323ms/step - loss: 0.7601 - accuracy: 0.7073 - val_loss: 209.2379 - val_accuracy: 0.4266\n",
      "Epoch 138/150\n",
      "100/100 [==============================] - 32s 316ms/step - loss: 0.7378 - accuracy: 0.7194 - val_loss: 402.5276 - val_accuracy: 0.4019\n",
      "Epoch 139/150\n",
      "100/100 [==============================] - 32s 315ms/step - loss: 0.7413 - accuracy: 0.7175 - val_loss: 383.2966 - val_accuracy: 0.3941\n",
      "Epoch 140/150\n",
      "100/100 [==============================] - 31s 306ms/step - loss: 0.7485 - accuracy: 0.7138 - val_loss: 595.9342 - val_accuracy: 0.3493\n",
      "Epoch 141/150\n",
      "100/100 [==============================] - 31s 305ms/step - loss: 0.7788 - accuracy: 0.6925 - val_loss: 560.0569 - val_accuracy: 0.3879\n",
      "Epoch 142/150\n",
      "100/100 [==============================] - 31s 311ms/step - loss: 0.7440 - accuracy: 0.7141 - val_loss: 855.3596 - val_accuracy: 0.3462\n",
      "Epoch 143/150\n",
      "100/100 [==============================] - 30s 301ms/step - loss: 0.7381 - accuracy: 0.7245 - val_loss: 371.8762 - val_accuracy: 0.3864\n",
      "Epoch 144/150\n",
      "100/100 [==============================] - 31s 306ms/step - loss: 0.7391 - accuracy: 0.7210 - val_loss: 1673.5267 - val_accuracy: 0.3524\n",
      "Epoch 145/150\n",
      "100/100 [==============================] - 30s 300ms/step - loss: 0.7659 - accuracy: 0.7066 - val_loss: 458.2973 - val_accuracy: 0.3879\n",
      "Epoch 146/150\n",
      "100/100 [==============================] - 30s 303ms/step - loss: 0.7069 - accuracy: 0.7282 - val_loss: 733.4544 - val_accuracy: 0.3416\n",
      "Epoch 147/150\n",
      "100/100 [==============================] - 33s 326ms/step - loss: 0.7154 - accuracy: 0.7289 - val_loss: 631.1320 - val_accuracy: 0.3570\n",
      "Epoch 148/150\n",
      "100/100 [==============================] - 32s 322ms/step - loss: 0.7184 - accuracy: 0.7245 - val_loss: 529.2666 - val_accuracy: 0.3539\n",
      "Epoch 149/150\n",
      "100/100 [==============================] - 32s 321ms/step - loss: 0.7062 - accuracy: 0.7288 - val_loss: 421.3645 - val_accuracy: 0.3663\n",
      "Epoch 150/150\n",
      "100/100 [==============================] - 33s 325ms/step - loss: 0.7126 - accuracy: 0.7272 - val_loss: 291.6209 - val_accuracy: 0.3864\n"
     ]
    },
    {
     "data": {
      "text/plain": [
       "<keras.callbacks.callbacks.History at 0x159425e12c8>"
      ]
     },
     "execution_count": 18,
     "metadata": {},
     "output_type": "execute_result"
    }
   ],
   "source": [
    "model.fit_generator(x_train, steps_per_epoch =100, epochs = 150, validation_data = x_test, validation_steps = 63)"
   ]
  },
  {
   "cell_type": "markdown",
   "metadata": {},
   "source": [
    "Saving the model"
   ]
  },
  {
   "cell_type": "code",
   "execution_count": 19,
   "metadata": {},
   "outputs": [],
   "source": [
    "model.save(\"Skin_Diseases.h5\")"
   ]
  },
  {
   "cell_type": "code",
   "execution_count": null,
   "metadata": {},
   "outputs": [],
   "source": []
  }
 ],
 "metadata": {
  "kernelspec": {
   "display_name": "Python 3",
   "language": "python",
   "name": "python3"
  },
  "language_info": {
   "codemirror_mode": {
    "name": "ipython",
    "version": 3
   },
   "file_extension": ".py",
   "mimetype": "text/x-python",
   "name": "python",
   "nbconvert_exporter": "python",
   "pygments_lexer": "ipython3",
   "version": "3.7.4"
  }
 },
 "nbformat": 4,
 "nbformat_minor": 2
}
